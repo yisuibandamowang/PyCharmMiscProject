{
 "cells": [
  {
   "metadata": {
    "collapsed": true
   },
   "cell_type": "markdown",
   "source": [
    "# 一 numpy\n",
    "## numpy的特性\n",
    "### 多维性\n"
   ],
   "id": "32f84abac9c657d9"
  },
  {
   "metadata": {
    "ExecuteTime": {
     "end_time": "2025-10-12T07:56:13.008096Z",
     "start_time": "2025-10-12T07:56:12.976388Z"
    }
   },
   "cell_type": "code",
   "source": [
    "import numpy as np\n",
    "from fontTools.misc.symfont import printGreenPen\n"
   ],
   "id": "fff982f7f5390d83",
   "outputs": [],
   "execution_count": 1
  },
  {
   "metadata": {
    "ExecuteTime": {
     "end_time": "2025-10-12T08:01:21.468783Z",
     "start_time": "2025-10-12T08:01:21.464987Z"
    }
   },
   "cell_type": "code",
   "source": [
    "arr = np.array([[1, 2, 3, 4, 5],[1,2,3,4,5]])\n",
    "print(arr)\n",
    "print(arr.ndim)\n"
   ],
   "id": "17aded8b584c0941",
   "outputs": [
    {
     "name": "stdout",
     "output_type": "stream",
     "text": [
      "[[1 2 3 4 5]\n",
      " [1 2 3 4 5]]\n",
      "2\n"
     ]
    }
   ],
   "execution_count": 6
  },
  {
   "metadata": {
    "ExecuteTime": {
     "end_time": "2025-10-12T07:57:17.090642Z",
     "start_time": "2025-10-12T07:57:17.085908Z"
    }
   },
   "cell_type": "markdown",
   "source": [
    "### 同质性\n",
    "\n"
   ],
   "id": "712e9abebe4519c2"
  },
  {
   "metadata": {
    "ExecuteTime": {
     "end_time": "2025-10-12T08:02:52.984299Z",
     "start_time": "2025-10-12T08:02:52.981708Z"
    }
   },
   "cell_type": "code",
   "source": [
    "arr = np.array([1,'hello'])\n",
    "print(arr)"
   ],
   "id": "fa01a2d7c2bd5e25",
   "outputs": [
    {
     "name": "stdout",
     "output_type": "stream",
     "text": [
      "['1' 'hello']\n"
     ]
    }
   ],
   "execution_count": 7
  },
  {
   "metadata": {},
   "cell_type": "markdown",
   "source": "### ndarray数组的创建",
   "id": "777d33b12d5f944b"
  },
  {
   "metadata": {
    "ExecuteTime": {
     "end_time": "2025-10-12T08:13:51.514620Z",
     "start_time": "2025-10-12T08:13:51.512077Z"
    }
   },
   "cell_type": "code",
   "source": [
    "arr = np.arange(1,10,3)\n",
    "print(arr)"
   ],
   "id": "92e3b3b4ef95c0ba",
   "outputs": [
    {
     "name": "stdout",
     "output_type": "stream",
     "text": [
      "[1 4 7]\n"
     ]
    }
   ],
   "execution_count": 8
  },
  {
   "metadata": {
    "ExecuteTime": {
     "end_time": "2025-10-12T08:14:49.051450Z",
     "start_time": "2025-10-12T08:14:49.047871Z"
    }
   },
   "cell_type": "code",
   "source": [
    "arr = np.linspace(1,10,5)\n",
    "print(arr)"
   ],
   "id": "4212dcbf7cafaabe",
   "outputs": [
    {
     "name": "stdout",
     "output_type": "stream",
     "text": [
      "[ 1.    3.25  5.5   7.75 10.  ]\n"
     ]
    }
   ],
   "execution_count": 9
  },
  {
   "metadata": {
    "ExecuteTime": {
     "end_time": "2025-10-12T08:17:21.607615Z",
     "start_time": "2025-10-12T08:17:21.603842Z"
    }
   },
   "cell_type": "code",
   "source": [
    "arr = np.logspace(0,4,3,base = 2)\n",
    "print(arr)"
   ],
   "id": "c96be37cef297fb",
   "outputs": [
    {
     "name": "stdout",
     "output_type": "stream",
     "text": [
      "[ 1.  4. 16.]\n"
     ]
    }
   ],
   "execution_count": 10
  },
  {
   "metadata": {},
   "cell_type": "code",
   "outputs": [],
   "execution_count": null,
   "source": "",
   "id": "74ad5b71214c5b20"
  },
  {
   "metadata": {},
   "cell_type": "markdown",
   "source": "### 特殊矩阵的构造",
   "id": "141b5a3181389a82"
  },
  {
   "metadata": {
    "ExecuteTime": {
     "end_time": "2025-10-12T08:22:42.445532Z",
     "start_time": "2025-10-12T08:22:42.442577Z"
    }
   },
   "cell_type": "code",
   "source": [
    "arr = np.eye(3,dtype=int)\n",
    "print( arr)"
   ],
   "id": "b5bd096da3940de3",
   "outputs": [
    {
     "name": "stdout",
     "output_type": "stream",
     "text": [
      "[[1 0 0]\n",
      " [0 1 0]\n",
      " [0 0 1]]\n"
     ]
    }
   ],
   "execution_count": 12
  },
  {
   "metadata": {
    "ExecuteTime": {
     "end_time": "2025-10-12T08:24:17.292463Z",
     "start_time": "2025-10-12T08:24:17.287725Z"
    }
   },
   "cell_type": "code",
   "source": [
    "arr = np.diag([1,2,3,4])\n",
    "print(arr)"
   ],
   "id": "92e3a9386c83c24e",
   "outputs": [
    {
     "name": "stdout",
     "output_type": "stream",
     "text": [
      "[[1 0 0 0]\n",
      " [0 2 0 0]\n",
      " [0 0 3 0]\n",
      " [0 0 0 4]]\n"
     ]
    }
   ],
   "execution_count": 13
  },
  {
   "metadata": {
    "ExecuteTime": {
     "end_time": "2025-10-12T08:26:34.579521Z",
     "start_time": "2025-10-12T08:26:34.576361Z"
    }
   },
   "cell_type": "code",
   "source": [
    "arr = np.random.rand(2,3)\n",
    "print( arr)\n"
   ],
   "id": "333d0236fa5a8cd1",
   "outputs": [
    {
     "name": "stdout",
     "output_type": "stream",
     "text": [
      "[[0.27047458 0.30077682 0.54332433]\n",
      " [0.74006607 0.82334122 0.92374865]]\n"
     ]
    }
   ],
   "execution_count": 15
  },
  {
   "metadata": {
    "ExecuteTime": {
     "end_time": "2025-10-12T08:27:36.529982Z",
     "start_time": "2025-10-12T08:27:36.525240Z"
    }
   },
   "cell_type": "code",
   "source": [
    "arr = np.random.uniform(3,6,size=(2,3))\n",
    "print( arr)"
   ],
   "id": "a5a73a8a6fbbc996",
   "outputs": [
    {
     "name": "stdout",
     "output_type": "stream",
     "text": [
      "[[5.6586894  4.49568826 5.36013391]\n",
      " [3.63239845 5.82700895 4.46158575]]\n"
     ]
    }
   ],
   "execution_count": 16
  },
  {
   "metadata": {
    "ExecuteTime": {
     "end_time": "2025-10-12T08:29:01.681745Z",
     "start_time": "2025-10-12T08:29:01.678738Z"
    }
   },
   "cell_type": "code",
   "source": [
    "arr = np.random.randint(3,30,size=(2,3))\n",
    "print( arr)"
   ],
   "id": "12874512c295aeb",
   "outputs": [
    {
     "name": "stdout",
     "output_type": "stream",
     "text": [
      "[[ 7 19 23]\n",
      " [13  8 25]]\n"
     ]
    }
   ],
   "execution_count": 18
  },
  {
   "metadata": {
    "ExecuteTime": {
     "end_time": "2025-10-12T08:31:18.990646Z",
     "start_time": "2025-10-12T08:31:18.987353Z"
    }
   },
   "cell_type": "code",
   "source": [
    "# 正态分布\n",
    "arr = np.random.rand(2,3)\n",
    "print( arr)"
   ],
   "id": "8bf7339707f57703",
   "outputs": [
    {
     "name": "stdout",
     "output_type": "stream",
     "text": [
      "[[0.80268982 0.1195845  0.65970066]\n",
      " [0.4644935  0.9716444  0.54286527]]\n"
     ]
    }
   ],
   "execution_count": 23
  },
  {
   "metadata": {
    "ExecuteTime": {
     "end_time": "2025-10-12T08:38:28.695588Z",
     "start_time": "2025-10-12T08:38:28.693607Z"
    }
   },
   "cell_type": "code",
   "source": [
    "arr = np.random.randint(1,100,20)\n",
    "print( arr)"
   ],
   "id": "8cb28cd0033fc40c",
   "outputs": [
    {
     "name": "stdout",
     "output_type": "stream",
     "text": [
      "[ 3 54  6 24 52 73 89 92  4 53 50 17 59 56 13 64  2 86 54 96]\n"
     ]
    }
   ],
   "execution_count": 24
  },
  {
   "metadata": {
    "ExecuteTime": {
     "end_time": "2025-10-12T08:40:30.194941Z",
     "start_time": "2025-10-12T08:40:30.191691Z"
    }
   },
   "cell_type": "code",
   "source": [
    "print(arr[10])\n",
    "print(arr[10:])\n",
    "print(arr[:10])\n",
    "print(arr[:])\n",
    "print(arr[2:5])\n",
    "print(arr[arr>10])"
   ],
   "id": "2933bb92dfa1d44d",
   "outputs": [
    {
     "name": "stdout",
     "output_type": "stream",
     "text": [
      "50\n",
      "[50 17 59 56 13 64  2 86 54 96]\n",
      "[ 3 54  6 24 52 73 89 92  4 53]\n",
      "[ 3 54  6 24 52 73 89 92  4 53 50 17 59 56 13 64  2 86 54 96]\n",
      "[ 6 24 52]\n",
      "[54 24 52 73 89 92 53 50 17 59 56 13 64 86 54 96]\n"
     ]
    }
   ],
   "execution_count": 31
  },
  {
   "metadata": {},
   "cell_type": "code",
   "outputs": [],
   "execution_count": null,
   "source": "",
   "id": "67bf98279ae807ef"
  },
  {
   "metadata": {},
   "cell_type": "code",
   "outputs": [],
   "execution_count": null,
   "source": "",
   "id": "ea9a5ebf06067024"
  }
 ],
 "metadata": {
  "kernelspec": {
   "display_name": "Python 3",
   "language": "python",
   "name": "python3"
  },
  "language_info": {
   "codemirror_mode": {
    "name": "ipython",
    "version": 2
   },
   "file_extension": ".py",
   "mimetype": "text/x-python",
   "name": "python",
   "nbconvert_exporter": "python",
   "pygments_lexer": "ipython2",
   "version": "2.7.6"
  }
 },
 "nbformat": 4,
 "nbformat_minor": 5
}
