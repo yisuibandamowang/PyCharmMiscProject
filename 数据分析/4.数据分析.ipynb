{
 "cells": [
  {
   "cell_type": "code",
   "execution_count": null,
   "id": "initial_id",
   "metadata": {
    "collapsed": true
   },
   "outputs": [],
   "source": "# 数据的导入\n"
  },
  {
   "metadata": {},
   "cell_type": "markdown",
   "source": "",
   "id": "1dd16fa05bfd6794"
  },
  {
   "metadata": {
    "ExecuteTime": {
     "end_time": "2025-10-24T06:06:48.557551Z",
     "start_time": "2025-10-24T06:06:48.536484Z"
    }
   },
   "cell_type": "code",
   "source": [
    "import pandas as pd\n",
    "df = pd.read_csv('data/employees.csv')\n",
    "df"
   ],
   "id": "fa598715f17b9c3b",
   "outputs": [
    {
     "data": {
      "text/plain": [
       "     employee_id first_name last_name     email  phone_number      job_id  \\\n",
       "0            100     Steven      King     SKING  515.123.4567     AD_PRES   \n",
       "1            101      N_ann   Kochhar  NKOCHHAR  515.123.4568       AD_VP   \n",
       "2            102        Lex   De Haan   LDEHAAN  515.123.4569       AD_VP   \n",
       "3            103  Alexander    Hunold   AHUNOLD  590.423.4567     IT_PROG   \n",
       "4            104      Bruce     Ernst    BERNST  590.423.4568     IT_PROG   \n",
       "..           ...        ...       ...       ...           ...         ...   \n",
       "102          202        Pat       Fay      PFAY  603.123.6666      MK_REP   \n",
       "103          203      Susan    Mavris   SMAVRIS  515.123.7777      HR_REP   \n",
       "104          204    Hermann      Baer     HBAER  515.123.8888      PR_REP   \n",
       "105          205    Shelley   Higgins  SHIGGINS  515.123.8080      AC_MGR   \n",
       "106          206    William     Gietz    WGIETZ  515.123.8181  AC_ACCOUNT   \n",
       "\n",
       "      salary  commission_pct  manager_id  department_id  \n",
       "0    24000.0             NaN         NaN           90.0  \n",
       "1    17000.0             NaN       100.0           90.0  \n",
       "2    17000.0             NaN       100.0           90.0  \n",
       "3     9000.0             NaN       102.0           60.0  \n",
       "4     6000.0             NaN       103.0           60.0  \n",
       "..       ...             ...         ...            ...  \n",
       "102   6000.0             NaN       201.0           20.0  \n",
       "103   6500.0             NaN       101.0           40.0  \n",
       "104  10000.0             NaN       101.0           70.0  \n",
       "105  12000.0             NaN       101.0          110.0  \n",
       "106   8300.0             NaN       205.0          110.0  \n",
       "\n",
       "[107 rows x 10 columns]"
      ],
      "text/html": [
       "<div>\n",
       "<style scoped>\n",
       "    .dataframe tbody tr th:only-of-type {\n",
       "        vertical-align: middle;\n",
       "    }\n",
       "\n",
       "    .dataframe tbody tr th {\n",
       "        vertical-align: top;\n",
       "    }\n",
       "\n",
       "    .dataframe thead th {\n",
       "        text-align: right;\n",
       "    }\n",
       "</style>\n",
       "<table border=\"1\" class=\"dataframe\">\n",
       "  <thead>\n",
       "    <tr style=\"text-align: right;\">\n",
       "      <th></th>\n",
       "      <th>employee_id</th>\n",
       "      <th>first_name</th>\n",
       "      <th>last_name</th>\n",
       "      <th>email</th>\n",
       "      <th>phone_number</th>\n",
       "      <th>job_id</th>\n",
       "      <th>salary</th>\n",
       "      <th>commission_pct</th>\n",
       "      <th>manager_id</th>\n",
       "      <th>department_id</th>\n",
       "    </tr>\n",
       "  </thead>\n",
       "  <tbody>\n",
       "    <tr>\n",
       "      <th>0</th>\n",
       "      <td>100</td>\n",
       "      <td>Steven</td>\n",
       "      <td>King</td>\n",
       "      <td>SKING</td>\n",
       "      <td>515.123.4567</td>\n",
       "      <td>AD_PRES</td>\n",
       "      <td>24000.0</td>\n",
       "      <td>NaN</td>\n",
       "      <td>NaN</td>\n",
       "      <td>90.0</td>\n",
       "    </tr>\n",
       "    <tr>\n",
       "      <th>1</th>\n",
       "      <td>101</td>\n",
       "      <td>N_ann</td>\n",
       "      <td>Kochhar</td>\n",
       "      <td>NKOCHHAR</td>\n",
       "      <td>515.123.4568</td>\n",
       "      <td>AD_VP</td>\n",
       "      <td>17000.0</td>\n",
       "      <td>NaN</td>\n",
       "      <td>100.0</td>\n",
       "      <td>90.0</td>\n",
       "    </tr>\n",
       "    <tr>\n",
       "      <th>2</th>\n",
       "      <td>102</td>\n",
       "      <td>Lex</td>\n",
       "      <td>De Haan</td>\n",
       "      <td>LDEHAAN</td>\n",
       "      <td>515.123.4569</td>\n",
       "      <td>AD_VP</td>\n",
       "      <td>17000.0</td>\n",
       "      <td>NaN</td>\n",
       "      <td>100.0</td>\n",
       "      <td>90.0</td>\n",
       "    </tr>\n",
       "    <tr>\n",
       "      <th>3</th>\n",
       "      <td>103</td>\n",
       "      <td>Alexander</td>\n",
       "      <td>Hunold</td>\n",
       "      <td>AHUNOLD</td>\n",
       "      <td>590.423.4567</td>\n",
       "      <td>IT_PROG</td>\n",
       "      <td>9000.0</td>\n",
       "      <td>NaN</td>\n",
       "      <td>102.0</td>\n",
       "      <td>60.0</td>\n",
       "    </tr>\n",
       "    <tr>\n",
       "      <th>4</th>\n",
       "      <td>104</td>\n",
       "      <td>Bruce</td>\n",
       "      <td>Ernst</td>\n",
       "      <td>BERNST</td>\n",
       "      <td>590.423.4568</td>\n",
       "      <td>IT_PROG</td>\n",
       "      <td>6000.0</td>\n",
       "      <td>NaN</td>\n",
       "      <td>103.0</td>\n",
       "      <td>60.0</td>\n",
       "    </tr>\n",
       "    <tr>\n",
       "      <th>...</th>\n",
       "      <td>...</td>\n",
       "      <td>...</td>\n",
       "      <td>...</td>\n",
       "      <td>...</td>\n",
       "      <td>...</td>\n",
       "      <td>...</td>\n",
       "      <td>...</td>\n",
       "      <td>...</td>\n",
       "      <td>...</td>\n",
       "      <td>...</td>\n",
       "    </tr>\n",
       "    <tr>\n",
       "      <th>102</th>\n",
       "      <td>202</td>\n",
       "      <td>Pat</td>\n",
       "      <td>Fay</td>\n",
       "      <td>PFAY</td>\n",
       "      <td>603.123.6666</td>\n",
       "      <td>MK_REP</td>\n",
       "      <td>6000.0</td>\n",
       "      <td>NaN</td>\n",
       "      <td>201.0</td>\n",
       "      <td>20.0</td>\n",
       "    </tr>\n",
       "    <tr>\n",
       "      <th>103</th>\n",
       "      <td>203</td>\n",
       "      <td>Susan</td>\n",
       "      <td>Mavris</td>\n",
       "      <td>SMAVRIS</td>\n",
       "      <td>515.123.7777</td>\n",
       "      <td>HR_REP</td>\n",
       "      <td>6500.0</td>\n",
       "      <td>NaN</td>\n",
       "      <td>101.0</td>\n",
       "      <td>40.0</td>\n",
       "    </tr>\n",
       "    <tr>\n",
       "      <th>104</th>\n",
       "      <td>204</td>\n",
       "      <td>Hermann</td>\n",
       "      <td>Baer</td>\n",
       "      <td>HBAER</td>\n",
       "      <td>515.123.8888</td>\n",
       "      <td>PR_REP</td>\n",
       "      <td>10000.0</td>\n",
       "      <td>NaN</td>\n",
       "      <td>101.0</td>\n",
       "      <td>70.0</td>\n",
       "    </tr>\n",
       "    <tr>\n",
       "      <th>105</th>\n",
       "      <td>205</td>\n",
       "      <td>Shelley</td>\n",
       "      <td>Higgins</td>\n",
       "      <td>SHIGGINS</td>\n",
       "      <td>515.123.8080</td>\n",
       "      <td>AC_MGR</td>\n",
       "      <td>12000.0</td>\n",
       "      <td>NaN</td>\n",
       "      <td>101.0</td>\n",
       "      <td>110.0</td>\n",
       "    </tr>\n",
       "    <tr>\n",
       "      <th>106</th>\n",
       "      <td>206</td>\n",
       "      <td>William</td>\n",
       "      <td>Gietz</td>\n",
       "      <td>WGIETZ</td>\n",
       "      <td>515.123.8181</td>\n",
       "      <td>AC_ACCOUNT</td>\n",
       "      <td>8300.0</td>\n",
       "      <td>NaN</td>\n",
       "      <td>205.0</td>\n",
       "      <td>110.0</td>\n",
       "    </tr>\n",
       "  </tbody>\n",
       "</table>\n",
       "<p>107 rows × 10 columns</p>\n",
       "</div>"
      ]
     },
     "execution_count": 2,
     "metadata": {},
     "output_type": "execute_result"
    }
   ],
   "execution_count": 2
  },
  {
   "metadata": {
    "ExecuteTime": {
     "end_time": "2025-10-24T06:08:26.287490Z",
     "start_time": "2025-10-24T06:08:26.283891Z"
    }
   },
   "cell_type": "code",
   "source": [
    "print(df.salary.mean())\n",
    "print(type(df))"
   ],
   "id": "841c1b8cf2207ebe",
   "outputs": [
    {
     "name": "stdout",
     "output_type": "stream",
     "text": [
      "6461.682242990654\n",
      "<class 'pandas.core.frame.DataFrame'>\n"
     ]
    }
   ],
   "execution_count": 4
  },
  {
   "metadata": {
    "ExecuteTime": {
     "end_time": "2025-10-24T06:09:20.503776Z",
     "start_time": "2025-10-24T06:09:20.499690Z"
    }
   },
   "cell_type": "code",
   "source": [
    "df = df.tail()\n",
    "df.to_csv('data/employees_tail.csv')"
   ],
   "id": "aa66eafef00da28e",
   "outputs": [],
   "execution_count": 5
  },
  {
   "metadata": {
    "ExecuteTime": {
     "end_time": "2025-10-24T06:12:46.607852Z",
     "start_time": "2025-10-24T06:12:46.599055Z"
    }
   },
   "cell_type": "code",
   "source": [
    "df = pd.read_json('data/data1.json')\n",
    "df"
   ],
   "id": "82b21613b9303428",
   "outputs": [
    {
     "data": {
      "text/plain": [
       "   id name  age\n",
       "0   1   张三   25\n",
       "1   2   李四   30\n",
       "2   3   王五   28"
      ],
      "text/html": [
       "<div>\n",
       "<style scoped>\n",
       "    .dataframe tbody tr th:only-of-type {\n",
       "        vertical-align: middle;\n",
       "    }\n",
       "\n",
       "    .dataframe tbody tr th {\n",
       "        vertical-align: top;\n",
       "    }\n",
       "\n",
       "    .dataframe thead th {\n",
       "        text-align: right;\n",
       "    }\n",
       "</style>\n",
       "<table border=\"1\" class=\"dataframe\">\n",
       "  <thead>\n",
       "    <tr style=\"text-align: right;\">\n",
       "      <th></th>\n",
       "      <th>id</th>\n",
       "      <th>name</th>\n",
       "      <th>age</th>\n",
       "    </tr>\n",
       "  </thead>\n",
       "  <tbody>\n",
       "    <tr>\n",
       "      <th>0</th>\n",
       "      <td>1</td>\n",
       "      <td>张三</td>\n",
       "      <td>25</td>\n",
       "    </tr>\n",
       "    <tr>\n",
       "      <th>1</th>\n",
       "      <td>2</td>\n",
       "      <td>李四</td>\n",
       "      <td>30</td>\n",
       "    </tr>\n",
       "    <tr>\n",
       "      <th>2</th>\n",
       "      <td>3</td>\n",
       "      <td>王五</td>\n",
       "      <td>28</td>\n",
       "    </tr>\n",
       "  </tbody>\n",
       "</table>\n",
       "</div>"
      ]
     },
     "execution_count": 7,
     "metadata": {},
     "output_type": "execute_result"
    }
   ],
   "execution_count": 7
  },
  {
   "metadata": {
    "ExecuteTime": {
     "end_time": "2025-10-24T06:14:15.957472Z",
     "start_time": "2025-10-24T06:14:15.950445Z"
    }
   },
   "cell_type": "code",
   "source": [
    "import json\n",
    "with open('data/test.json') as f:\n",
    "    data = json.load(f)\n",
    "print(data)\n",
    "df = pd.DataFrame(data['users'])\n",
    "print(df)"
   ],
   "id": "4de22566faffb5b2",
   "outputs": [
    {
     "name": "stdout",
     "output_type": "stream",
     "text": [
      "{'users': [{'id': 1, 'name': '张三', 'age': 28, 'email': 'zhangsan@example.com', 'is_active': True, 'join_date': '2022-03-15'}, {'id': 2, 'name': '李四', 'age': 35, 'email': 'lisi@example.com', 'is_active': False, 'join_date': '2021-11-02'}, {'id': 3, 'name': '王五', 'age': 24, 'email': 'wangwu@example.com', 'is_active': True, 'join_date': '2023-01-20'}]}\n",
      "   id name  age                 email  is_active   join_date\n",
      "0   1   张三   28  zhangsan@example.com       True  2022-03-15\n",
      "1   2   李四   35      lisi@example.com      False  2021-11-02\n",
      "2   3   王五   24    wangwu@example.com       True  2023-01-20\n"
     ]
    }
   ],
   "execution_count": 10
  },
  {
   "metadata": {},
   "cell_type": "code",
   "outputs": [],
   "execution_count": null,
   "source": "",
   "id": "87d5ccdd3aa7ccbb"
  },
  {
   "metadata": {
    "ExecuteTime": {
     "end_time": "2025-10-24T06:23:10.022235Z",
     "start_time": "2025-10-24T06:23:10.014195Z"
    }
   },
   "cell_type": "code",
   "source": [
    "import pandas as pd\n",
    "import numpy as np\n",
    "s = pd.Series([1,2,np.nan,None,pd.NA])\n",
    "df = pd.DataFrame([[1,pd.NA,2],[2,3,5],[None,4,6]])\n",
    "print(s.isna())\n",
    "print(s.isnull())\n",
    "df\n",
    "print('*' * 30)\n",
    "print(s.dropna())\n",
    "print(df.dropna(how='all'))"
   ],
   "id": "ec717de4e621843",
   "outputs": [
    {
     "name": "stdout",
     "output_type": "stream",
     "text": [
      "0    False\n",
      "1    False\n",
      "2     True\n",
      "3     True\n",
      "4     True\n",
      "dtype: bool\n",
      "0    False\n",
      "1    False\n",
      "2     True\n",
      "3     True\n",
      "4     True\n",
      "dtype: bool\n",
      "******************************\n",
      "0    1\n",
      "1    2\n",
      "dtype: object\n",
      "     0     1  2\n",
      "0  1.0  <NA>  2\n",
      "1  2.0     3  5\n",
      "2  NaN     4  6\n"
     ]
    }
   ],
   "execution_count": 16
  },
  {
   "metadata": {
    "ExecuteTime": {
     "end_time": "2025-10-24T06:32:21.520023Z",
     "start_time": "2025-10-24T06:32:21.517908Z"
    }
   },
   "cell_type": "code",
   "source": [
    "\n",
    "\n"
   ],
   "id": "77a804f7588d9d6d",
   "outputs": [],
   "execution_count": 16
  },
  {
   "metadata": {
    "ExecuteTime": {
     "end_time": "2025-10-24T06:32:21.760804Z",
     "start_time": "2025-10-24T06:32:21.758939Z"
    }
   },
   "cell_type": "code",
   "source": "",
   "id": "eeda37e0bcb8b200",
   "outputs": [],
   "execution_count": null
  },
  {
   "metadata": {
    "ExecuteTime": {
     "end_time": "2025-10-24T06:32:22.026907Z",
     "start_time": "2025-10-24T06:32:22.025066Z"
    }
   },
   "cell_type": "code",
   "source": "",
   "id": "b8b095af6a1dbea3",
   "outputs": [],
   "execution_count": null
  },
  {
   "metadata": {},
   "cell_type": "code",
   "outputs": [],
   "execution_count": null,
   "source": "",
   "id": "9f192a5a44c21fc"
  }
 ],
 "metadata": {
  "kernelspec": {
   "display_name": "Python 3",
   "language": "python",
   "name": "python3"
  },
  "language_info": {
   "codemirror_mode": {
    "name": "ipython",
    "version": 2
   },
   "file_extension": ".py",
   "mimetype": "text/x-python",
   "name": "python",
   "nbconvert_exporter": "python",
   "pygments_lexer": "ipython2",
   "version": "2.7.6"
  }
 },
 "nbformat": 4,
 "nbformat_minor": 5
}
