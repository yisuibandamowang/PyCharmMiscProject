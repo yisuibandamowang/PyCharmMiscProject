{
 "cells": [
  {
   "cell_type": "code",
   "id": "initial_id",
   "metadata": {
    "collapsed": true,
    "ExecuteTime": {
     "end_time": "2025-10-12T13:10:04.284180Z",
     "start_time": "2025-10-12T13:10:04.088766Z"
    }
   },
   "source": "import pandas as pd\n",
   "outputs": [],
   "execution_count": 1
  },
  {
   "metadata": {
    "ExecuteTime": {
     "end_time": "2025-10-12T13:12:54.347049Z",
     "start_time": "2025-10-12T13:12:54.343526Z"
    }
   },
   "cell_type": "code",
   "source": [
    "s = pd.Series([1, 3, 5, 6, 8])\n",
    "# 自定义索引\n",
    "s = pd.Series([1, 3, 5, 6, 8], index=['a', 'b', 'c', 'd', 'e'])\n",
    "# 定义标签/name\n",
    "s = pd.Series([1, 3, 5, 6, 8], index=['a', 'b', 'c', 'd', 'e'], name='月份')\n",
    "print(s)"
   ],
   "id": "fb50f686f7d44e14",
   "outputs": [
    {
     "name": "stdout",
     "output_type": "stream",
     "text": [
      "a    1\n",
      "b    3\n",
      "c    5\n",
      "d    6\n",
      "e    8\n",
      "Name: 月份, dtype: int64\n"
     ]
    }
   ],
   "execution_count": 6
  },
  {
   "metadata": {
    "ExecuteTime": {
     "end_time": "2025-10-12T13:16:49.036789Z",
     "start_time": "2025-10-12T13:16:49.031777Z"
    }
   },
   "cell_type": "code",
   "source": [
    "s = pd.Series({\"a\":1, \"b\":3, \"c\":5, \"d\":6, \"e\":8})\n",
    "print(s)\n",
    "s1 = pd.Series(s,index = [\"a\",\"c\"])\n",
    "print(s1)"
   ],
   "id": "81030e94c7192c4e",
   "outputs": [
    {
     "name": "stdout",
     "output_type": "stream",
     "text": [
      "a    1\n",
      "b    3\n",
      "c    5\n",
      "d    6\n",
      "e    8\n",
      "dtype: int64\n",
      "a    1\n",
      "c    5\n",
      "dtype: int64\n"
     ]
    }
   ],
   "execution_count": 9
  },
  {
   "metadata": {
    "ExecuteTime": {
     "end_time": "2025-10-12T13:57:52.171708Z",
     "start_time": "2025-10-12T13:57:52.164799Z"
    }
   },
   "cell_type": "code",
   "source": [
    "import numpy as np\n",
    "np.random.seed(42)\n",
    "\n",
    "scores = pd.Series(np.random.randint(50,101,10),index = ['学生' + str(i) for i in range(1,11)])\n",
    "mean = scores.mean()\n",
    "print(scores.mean())\n",
    "print(scores.max())\n",
    "print(scores.min())\n",
    "print(scores[scores > mean].count())\n"
   ],
   "id": "829633cf9d42eebe",
   "outputs": [
    {
     "name": "stdout",
     "output_type": "stream",
     "text": [
      "73.7\n",
      "92\n",
      "57\n",
      "4\n"
     ]
    }
   ],
   "execution_count": 13
  },
  {
   "metadata": {},
   "cell_type": "code",
   "outputs": [],
   "execution_count": null,
   "source": "",
   "id": "634c525098e1a716"
  }
 ],
 "metadata": {
  "kernelspec": {
   "display_name": "Python 3",
   "language": "python",
   "name": "python3"
  },
  "language_info": {
   "codemirror_mode": {
    "name": "ipython",
    "version": 2
   },
   "file_extension": ".py",
   "mimetype": "text/x-python",
   "name": "python",
   "nbconvert_exporter": "python",
   "pygments_lexer": "ipython2",
   "version": "2.7.6"
  }
 },
 "nbformat": 4,
 "nbformat_minor": 5
}
