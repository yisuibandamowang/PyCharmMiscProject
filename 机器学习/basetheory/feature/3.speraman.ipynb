{
 "cells": [
  {
   "cell_type": "code",
   "id": "initial_id",
   "metadata": {
    "collapsed": true,
    "ExecuteTime": {
     "end_time": "2025-10-27T03:14:14.239697Z",
     "start_time": "2025-10-27T03:14:14.078510Z"
    }
   },
   "source": "import pandas as pd\n",
   "outputs": [],
   "execution_count": 1
  },
  {
   "metadata": {
    "ExecuteTime": {
     "end_time": "2025-10-27T03:22:01.608232Z",
     "start_time": "2025-10-27T03:22:01.603787Z"
    }
   },
   "cell_type": "code",
   "source": [
    "X = [[5],[8],[10],[12],[15],[3],[7],[9],[14],[6]]\n",
    "Y = [55, 65, 70, 75, 85, 50, 60, 72, 80,58]\n",
    "X = pd.DataFrame(X)\n",
    "Y = pd.Series(Y)"
   ],
   "id": "6fd46015763b062d",
   "outputs": [],
   "execution_count": 7
  },
  {
   "metadata": {
    "ExecuteTime": {
     "end_time": "2025-10-27T03:22:04.140582Z",
     "start_time": "2025-10-27T03:22:03.771048Z"
    }
   },
   "cell_type": "code",
   "source": [
    "# 计算斯皮尔曼相关系数\n",
    "print(X.corrwith(Y,method='spearman'))"
   ],
   "id": "cbdacb5727d36764",
   "outputs": [
    {
     "name": "stdout",
     "output_type": "stream",
     "text": [
      "0    0.987879\n",
      "dtype: float64\n"
     ]
    }
   ],
   "execution_count": 8
  },
  {
   "metadata": {},
   "cell_type": "code",
   "outputs": [],
   "execution_count": null,
   "source": "",
   "id": "c5cab95dec1fc000"
  }
 ],
 "metadata": {
  "kernelspec": {
   "display_name": "Python 3",
   "language": "python",
   "name": "python3"
  },
  "language_info": {
   "codemirror_mode": {
    "name": "ipython",
    "version": 2
   },
   "file_extension": ".py",
   "mimetype": "text/x-python",
   "name": "python",
   "nbconvert_exporter": "python",
   "pygments_lexer": "ipython2",
   "version": "2.7.6"
  }
 },
 "nbformat": 4,
 "nbformat_minor": 5
}
