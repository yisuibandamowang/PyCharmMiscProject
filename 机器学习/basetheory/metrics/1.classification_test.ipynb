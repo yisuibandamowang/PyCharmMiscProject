{
 "cells": [
  {
   "cell_type": "code",
   "id": "initial_id",
   "metadata": {
    "collapsed": true,
    "ExecuteTime": {
     "end_time": "2025-10-28T02:13:39.720124Z",
     "start_time": "2025-10-28T02:13:38.750796Z"
    }
   },
   "source": [
    "import pandas as pd\n",
    "from sklearn.metrics import confusion_matrix\n",
    "import seaborn as sns"
   ],
   "outputs": [],
   "execution_count": 2
  },
  {
   "metadata": {
    "ExecuteTime": {
     "end_time": "2025-10-28T02:15:45.143333Z",
     "start_time": "2025-10-28T02:15:45.138937Z"
    }
   },
   "cell_type": "code",
   "source": [
    "# 定义类别标签\n",
    "labels = [\"猫\",\"狗\"]\n",
    "\n",
    "#定义数据\n",
    "y_true = [\"猫\", \"猫\", \"猫\", \"猫\", \"猫\", \"猫\", \"狗\", \"狗\", \"狗\", \"狗\"]\n",
    "y_pred = [\"猫\", \"猫\", \"狗\", \"猫\", \"猫\", \"猫\", \"猫\", \"猫\", \"狗\", \"狗\"]\n"
   ],
   "id": "4698fa0330200f46",
   "outputs": [],
   "execution_count": 3
  },
  {
   "metadata": {
    "ExecuteTime": {
     "end_time": "2025-10-28T02:16:40.055621Z",
     "start_time": "2025-10-28T02:16:40.049373Z"
    }
   },
   "cell_type": "code",
   "source": [
    "# 混淆矩阵\n",
    "matrix = confusion_matrix(y_true, y_pred,labels= labels)\n",
    "print(pd.DataFrame(matrix, index=labels, columns=labels))"
   ],
   "id": "6127f274925a9f8a",
   "outputs": [
    {
     "name": "stdout",
     "output_type": "stream",
     "text": [
      "   猫  狗\n",
      "猫  5  1\n",
      "狗  2  2\n"
     ]
    }
   ],
   "execution_count": 4
  },
  {
   "metadata": {
    "ExecuteTime": {
     "end_time": "2025-10-28T02:17:10.001302Z",
     "start_time": "2025-10-28T02:17:09.903406Z"
    }
   },
   "cell_type": "code",
   "source": "sns.heatmap(matrix, annot=True, fmt=\"d\")",
   "id": "8bcbfbf6dcf681f5",
   "outputs": [
    {
     "data": {
      "text/plain": [
       "<Axes: >"
      ]
     },
     "execution_count": 5,
     "metadata": {},
     "output_type": "execute_result"
    },
    {
     "data": {
      "text/plain": [
       "<Figure size 640x480 with 2 Axes>"
      ],
      "image/png": "[encoded data removed]"
     },
     "metadata": {},
     "output_type": "display_data",
     "jetTransient": {
      "display_id": null
     }
    }
   ],
   "execution_count": 5
  },
  {
   "metadata": {},
   "cell_type": "code",
   "outputs": [],
   "execution_count": null,
   "source": "",
   "id": "2f7fa3b7790da809"
  }
 ],
 "metadata": {
  "kernelspec": {
   "display_name": "Python 3",
   "language": "python",
   "name": "python3"
  },
  "language_info": {
   "codemirror_mode": {
    "name": "ipython",
    "version": 2
   },
   "file_extension": ".py",
   "mimetype": "text/x-python",
   "name": "python",
   "nbconvert_exporter": "python",
   "pygments_lexer": "ipython2",
   "version": "2.7.6"
  }
 },
 "nbformat": 4,
 "nbformat_minor": 5
}
