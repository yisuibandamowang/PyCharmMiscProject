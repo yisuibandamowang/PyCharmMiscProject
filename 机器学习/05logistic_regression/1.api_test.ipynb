{
 "cells": [
  {
   "cell_type": "code",
   "id": "initial_id",
   "metadata": {
    "collapsed": true,
    "ExecuteTime": {
     "end_time": "2025-10-28T14:43:16.963254Z",
     "start_time": "2025-10-28T14:43:16.353372Z"
    }
   },
   "source": "from sklearn.linear_model import LogisticRegression",
   "outputs": [],
   "execution_count": 1
  },
  {
   "metadata": {
    "ExecuteTime": {
     "end_time": "2025-10-28T14:43:21.484032Z",
     "start_time": "2025-10-28T14:43:21.481869Z"
    }
   },
   "cell_type": "code",
   "source": [
    "model = LogisticRegression(\n",
    "    solver='sag',\n",
    "    multi_class='multinomial',\n",
    "    max_iter=1000,\n",
    "    class_weight='balanced',\n",
    "    random_state=42,\n",
    "    penalty='l1',\n",
    "    C=1.0\n",
    ")"
   ],
   "id": "8486dc663508fc6b",
   "outputs": [],
   "execution_count": 2
  },
  {
   "metadata": {
    "ExecuteTime": {
     "end_time": "2025-10-28T14:43:27.237906Z",
     "start_time": "2025-10-28T14:43:27.233088Z"
    }
   },
   "cell_type": "code",
   "source": [
    "# OVR\n",
    "# 1. 直接创建LogisticRegression模型\n",
    "model_ovr1 = LogisticRegression(multi_class='ovr')\n",
    "\n",
    "from sklearn.multiclass import OneVsRestClassifier\n",
    "# 2. 创建OneVsRestClassifier模型\n",
    "model_ovr2 = OneVsRestClassifier(LogisticRegression())"
   ],
   "id": "b14a5718e7df52ac",
   "outputs": [],
   "execution_count": 3
  },
  {
   "metadata": {
    "ExecuteTime": {
     "end_time": "2025-10-28T14:43:37.807359Z",
     "start_time": "2025-10-28T14:43:37.804735Z"
    }
   },
   "cell_type": "code",
   "source": [
    "# Softmax逻辑回归\n",
    "model_softmax = LogisticRegression(multi_class='multinomial')"
   ],
   "id": "6a93db56db62d39",
   "outputs": [],
   "execution_count": 4
  },
  {
   "metadata": {},
   "cell_type": "code",
   "outputs": [],
   "execution_count": null,
   "source": "",
   "id": "d751fe0685594835"
  }
 ],
 "metadata": {
  "kernelspec": {
   "display_name": "Python 3",
   "language": "python",
   "name": "python3"
  },
  "language_info": {
   "codemirror_mode": {
    "name": "ipython",
    "version": 2
   },
   "file_extension": ".py",
   "mimetype": "text/x-python",
   "name": "python",
   "nbconvert_exporter": "python",
   "pygments_lexer": "ipython2",
   "version": "2.7.6"
  }
 },
 "nbformat": 4,
 "nbformat_minor": 5
}
