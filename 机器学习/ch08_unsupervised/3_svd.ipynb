{
 "cells": [
  {
   "cell_type": "code",
   "id": "initial_id",
   "metadata": {
    "collapsed": true,
    "ExecuteTime": {
     "end_time": "2025-10-29T09:25:54.978554Z",
     "start_time": "2025-10-29T09:25:54.947195Z"
    }
   },
   "source": "import numpy as np",
   "outputs": [],
   "execution_count": 1
  },
  {
   "metadata": {
    "ExecuteTime": {
     "end_time": "2025-10-29T09:25:55.250028Z",
     "start_time": "2025-10-29T09:25:55.240708Z"
    }
   },
   "cell_type": "code",
   "source": [
    "A = np.array([[1, 1], [2, 2], [0, 0]])\n",
    "\n",
    "U, S, V = np.linalg.svd(A)\n",
    "\n",
    "print(U)\n",
    "print(S)\n",
    "print(V)"
   ],
   "id": "5a0f5babbf5ac66a",
   "outputs": [
    {
     "name": "stdout",
     "output_type": "stream",
     "text": [
      "[[-0.4472136  -0.89442719  0.        ]\n",
      " [-0.89442719  0.4472136   0.        ]\n",
      " [ 0.          0.          1.        ]]\n",
      "[3.16227766e+00 1.43443825e-16]\n",
      "[[-0.70710678 -0.70710678]\n",
      " [-0.70710678  0.70710678]]\n"
     ]
    }
   ],
   "execution_count": 2
  },
  {
   "metadata": {
    "ExecuteTime": {
     "end_time": "2025-10-29T09:25:57.791636Z",
     "start_time": "2025-10-29T09:25:57.252852Z"
    }
   },
   "cell_type": "code",
   "source": "from sklearn.utils.extmath import randomized_svd",
   "id": "84377beb2c849774",
   "outputs": [],
   "execution_count": 3
  },
  {
   "metadata": {
    "ExecuteTime": {
     "end_time": "2025-10-29T09:25:57.802538Z",
     "start_time": "2025-10-29T09:25:57.797594Z"
    }
   },
   "cell_type": "code",
   "source": [
    "U, S, V = randomized_svd(A, n_components=2)\n",
    "print(U)\n",
    "print(S)\n",
    "print(V)"
   ],
   "id": "5144059383455e84",
   "outputs": [
    {
     "name": "stdout",
     "output_type": "stream",
     "text": [
      "[[ 0.4472136   0.89442719]\n",
      " [ 0.89442719 -0.4472136 ]\n",
      " [ 0.          0.        ]]\n",
      "[3.16227766e+00 1.62596948e-32]\n",
      "[[ 0.70710678  0.70710678]\n",
      " [ 0.70710678 -0.70710678]]\n"
     ]
    }
   ],
   "execution_count": 4
  },
  {
   "metadata": {
    "ExecuteTime": {
     "end_time": "2025-10-29T09:26:00.705685Z",
     "start_time": "2025-10-29T09:26:00.621147Z"
    }
   },
   "cell_type": "code",
   "source": "from sklearn.decomposition import PCA",
   "id": "ab9140472a91e695",
   "outputs": [],
   "execution_count": 5
  },
  {
   "metadata": {
    "ExecuteTime": {
     "end_time": "2025-10-29T09:26:01.180841Z",
     "start_time": "2025-10-29T09:26:01.176378Z"
    }
   },
   "cell_type": "code",
   "source": [
    "X = np.random.randn(100, 3)\n",
    "pca = PCA(n_components=2)\n",
    "X_pca = pca.fit_transform(X)\n",
    "print(X_pca.shape)"
   ],
   "id": "91573f34aef2577f",
   "outputs": [
    {
     "name": "stdout",
     "output_type": "stream",
     "text": [
      "(100, 2)\n"
     ]
    }
   ],
   "execution_count": 6
  },
  {
   "metadata": {},
   "cell_type": "code",
   "outputs": [],
   "execution_count": null,
   "source": "",
   "id": "cbbd8d4db8e8d485"
  }
 ],
 "metadata": {
  "kernelspec": {
   "display_name": "Python 3",
   "language": "python",
   "name": "python3"
  },
  "language_info": {
   "codemirror_mode": {
    "name": "ipython",
    "version": 2
   },
   "file_extension": ".py",
   "mimetype": "text/x-python",
   "name": "python",
   "nbconvert_exporter": "python",
   "pygments_lexer": "ipython2",
   "version": "2.7.6"
  }
 },
 "nbformat": 4,
 "nbformat_minor": 5
}
