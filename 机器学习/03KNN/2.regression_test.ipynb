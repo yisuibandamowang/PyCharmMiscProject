{
 "cells": [
  {
   "cell_type": "code",
   "id": "initial_id",
   "metadata": {
    "collapsed": true,
    "ExecuteTime": {
     "end_time": "2025-10-28T03:24:18.313568Z",
     "start_time": "2025-10-28T03:24:17.676814Z"
    }
   },
   "source": "from sklearn.neighbors import KNeighborsRegressor\n",
   "outputs": [],
   "execution_count": 1
  },
  {
   "metadata": {
    "ExecuteTime": {
     "end_time": "2025-10-28T03:24:48.469033Z",
     "start_time": "2025-10-28T03:24:48.465894Z"
    }
   },
   "cell_type": "code",
   "source": [
    "# 准备数据\n",
    "X = [[2, 1], [3, 1], [1, 4], [2, 6]]\n",
    "y = [0.5, 0.33, 4, 3]    # 分类标签"
   ],
   "id": "96148f2384f36bd6",
   "outputs": [],
   "execution_count": 2
  },
  {
   "metadata": {
    "ExecuteTime": {
     "end_time": "2025-10-28T03:25:00.317879Z",
     "start_time": "2025-10-28T03:25:00.313692Z"
    }
   },
   "cell_type": "code",
   "source": [
    "# KNN回归模型\n",
    "knn = KNeighborsRegressor(n_neighbors=2, weights='distance')\n",
    "knn.fit(X, y)\n",
    "# 预测\n",
    "x = [[4, 9]]\n",
    "x_pred = knn.predict(x)\n",
    "print(x_pred)"
   ],
   "id": "fda55d46808a306f",
   "outputs": [
    {
     "name": "stdout",
     "output_type": "stream",
     "text": [
      "[3.38208553]\n"
     ]
    }
   ],
   "execution_count": 3
  },
  {
   "metadata": {},
   "cell_type": "code",
   "outputs": [],
   "execution_count": null,
   "source": "",
   "id": "c2dc5f229422942c"
  }
 ],
 "metadata": {
  "kernelspec": {
   "display_name": "Python 3",
   "language": "python",
   "name": "python3"
  },
  "language_info": {
   "codemirror_mode": {
    "name": "ipython",
    "version": 2
   },
   "file_extension": ".py",
   "mimetype": "text/x-python",
   "name": "python",
   "nbconvert_exporter": "python",
   "pygments_lexer": "ipython2",
   "version": "2.7.6"
  }
 },
 "nbformat": 4,
 "nbformat_minor": 5
}
