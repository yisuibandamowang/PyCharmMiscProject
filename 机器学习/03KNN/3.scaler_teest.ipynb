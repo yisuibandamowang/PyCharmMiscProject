{
 "cells": [
  {
   "cell_type": "code",
   "id": "initial_id",
   "metadata": {
    "collapsed": true,
    "ExecuteTime": {
     "end_time": "2025-10-28T03:45:35.224372Z",
     "start_time": "2025-10-28T03:45:35.220986Z"
    }
   },
   "source": [
    "import numpy as np\n",
    "from sklearn.preprocessing import MinMaxScaler\n"
   ],
   "outputs": [],
   "execution_count": 8
  },
  {
   "metadata": {
    "ExecuteTime": {
     "end_time": "2025-10-28T03:39:56.967364Z",
     "start_time": "2025-10-28T03:39:56.963608Z"
    }
   },
   "cell_type": "code",
   "source": "X = [[2, 1], [3, 1], [1, 4], [2, 6]]",
   "id": "e322fb2ef112a948",
   "outputs": [],
   "execution_count": 2
  },
  {
   "metadata": {
    "ExecuteTime": {
     "end_time": "2025-10-28T03:40:49.700524Z",
     "start_time": "2025-10-28T03:40:49.695827Z"
    }
   },
   "cell_type": "code",
   "source": [
    "# 定义归一化类的对象\n",
    "scaler = MinMaxScaler(feature_range=(-1,1))\n",
    "# 将缩放器应用到特征上\n",
    "X_scaled = scaler.fit_transform(X)\n",
    "print(X_scaled)"
   ],
   "id": "672e9316b47fc050",
   "outputs": [
    {
     "name": "stdout",
     "output_type": "stream",
     "text": [
      "[[ 0.  -1. ]\n",
      " [ 1.  -1. ]\n",
      " [-1.   0.2]\n",
      " [ 0.   1. ]]\n"
     ]
    }
   ],
   "execution_count": 3
  },
  {
   "metadata": {
    "ExecuteTime": {
     "end_time": "2025-10-28T03:44:12.935755Z",
     "start_time": "2025-10-28T03:44:12.933448Z"
    }
   },
   "cell_type": "code",
   "source": "print(X)",
   "id": "43164af5572536fc",
   "outputs": [
    {
     "name": "stdout",
     "output_type": "stream",
     "text": [
      "[[2, 1], [3, 1], [1, 4], [2, 6]]\n"
     ]
    }
   ],
   "execution_count": 4
  },
  {
   "metadata": {
    "ExecuteTime": {
     "end_time": "2025-10-28T03:45:07.996808Z",
     "start_time": "2025-10-28T03:45:07.992329Z"
    }
   },
   "cell_type": "code",
   "source": [
    "#标准化\n",
    "from sklearn.preprocessing import StandardScaler\n",
    "scaler = StandardScaler()\n",
    "X_scaled = scaler.fit_transform(X)\n",
    "print(X_scaled)"
   ],
   "id": "8a4a7343aaff405f",
   "outputs": [
    {
     "name": "stdout",
     "output_type": "stream",
     "text": [
      "[[ 0.         -0.94280904]\n",
      " [ 1.41421356 -0.94280904]\n",
      " [-1.41421356  0.47140452]\n",
      " [ 0.          1.41421356]]\n"
     ]
    }
   ],
   "execution_count": 6
  },
  {
   "metadata": {
    "ExecuteTime": {
     "end_time": "2025-10-28T03:47:24.124027Z",
     "start_time": "2025-10-28T03:47:24.121059Z"
    }
   },
   "cell_type": "code",
   "source": [
    "np.array(X)\n",
    "mean = np.mean(X, axis=0)\n",
    "print(mean)\n",
    "std = np.std(X, axis=0)\n",
    "print(std)"
   ],
   "id": "4958b0c5330fca12",
   "outputs": [
    {
     "name": "stdout",
     "output_type": "stream",
     "text": [
      "[2. 3.]\n",
      "[0.70710678 2.12132034]\n"
     ]
    }
   ],
   "execution_count": 15
  },
  {
   "metadata": {
    "ExecuteTime": {
     "end_time": "2025-10-28T03:47:24.619541Z",
     "start_time": "2025-10-28T03:47:24.615118Z"
    }
   },
   "cell_type": "code",
   "source": "print((X - mean) / std)",
   "id": "2654df7b176f494a",
   "outputs": [
    {
     "name": "stdout",
     "output_type": "stream",
     "text": [
      "[[ 0.         -0.94280904]\n",
      " [ 1.41421356 -0.94280904]\n",
      " [-1.41421356  0.47140452]\n",
      " [ 0.          1.41421356]]\n"
     ]
    }
   ],
   "execution_count": 16
  },
  {
   "metadata": {},
   "cell_type": "code",
   "outputs": [],
   "execution_count": null,
   "source": "",
   "id": "530de80c035b6b82"
  }
 ],
 "metadata": {
  "kernelspec": {
   "display_name": "Python 3",
   "language": "python",
   "name": "python3"
  },
  "language_info": {
   "codemirror_mode": {
    "name": "ipython",
    "version": 2
   },
   "file_extension": ".py",
   "mimetype": "text/x-python",
   "name": "python",
   "nbconvert_exporter": "python",
   "pygments_lexer": "ipython2",
   "version": "2.7.6"
  }
 },
 "nbformat": 4,
 "nbformat_minor": 5
}
