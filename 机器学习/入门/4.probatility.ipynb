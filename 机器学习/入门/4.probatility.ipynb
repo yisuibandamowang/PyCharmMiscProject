{
 "cells": [
  {
   "cell_type": "code",
   "id": "initial_id",
   "metadata": {
    "collapsed": true,
    "ExecuteTime": {
     "end_time": "2025-10-26T09:12:14.144597Z",
     "start_time": "2025-10-26T09:12:14.103104Z"
    }
   },
   "source": [
    "from traceback import print_tb\n",
    "\n",
    "import numpy as np"
   ],
   "outputs": [],
   "execution_count": 1
  },
  {
   "metadata": {
    "ExecuteTime": {
     "end_time": "2025-10-26T09:14:38.597196Z",
     "start_time": "2025-10-26T09:14:38.591717Z"
    }
   },
   "cell_type": "code",
   "source": [
    "a = np.random.rand(5)\n",
    "b = np.random.rand(2,3)\n",
    "c = np.random.randint(0,100,size = [2,3])\n",
    "print(c)\n"
   ],
   "id": "d52c0feffa15bbf7",
   "outputs": [
    {
     "name": "stdout",
     "output_type": "stream",
     "text": [
      "[[73 63 95]\n",
      " [58 59 61]]\n"
     ]
    }
   ],
   "execution_count": 3
  },
  {
   "metadata": {
    "ExecuteTime": {
     "end_time": "2025-10-26T09:15:43.063508Z",
     "start_time": "2025-10-26T09:15:43.060255Z"
    }
   },
   "cell_type": "code",
   "source": [
    "# 随机生成复合标准正态分布的数据\n",
    "d = np.random.randn(2,5)\n",
    "print(d)"
   ],
   "id": "5c9c94b51cb3b3fd",
   "outputs": [
    {
     "name": "stdout",
     "output_type": "stream",
     "text": [
      "[[-1.53375137 -0.9098787  -0.30844231 -0.42624651  2.09096463]\n",
      " [-1.93167228  0.31126119  0.16377302  0.66578481 -0.94532932]]\n"
     ]
    }
   ],
   "execution_count": 5
  },
  {
   "metadata": {},
   "cell_type": "code",
   "outputs": [],
   "execution_count": null,
   "source": "",
   "id": "ebde1a04cff9cf6b"
  }
 ],
 "metadata": {
  "kernelspec": {
   "display_name": "Python 3",
   "language": "python",
   "name": "python3"
  },
  "language_info": {
   "codemirror_mode": {
    "name": "ipython",
    "version": 2
   },
   "file_extension": ".py",
   "mimetype": "text/x-python",
   "name": "python",
   "nbconvert_exporter": "python",
   "pygments_lexer": "ipython2",
   "version": "2.7.6"
  }
 },
 "nbformat": 4,
 "nbformat_minor": 5
}
