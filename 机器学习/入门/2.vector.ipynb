{
 "cells": [
  {
   "cell_type": "code",
   "id": "initial_id",
   "metadata": {
    "collapsed": true,
    "ExecuteTime": {
     "end_time": "2025-10-26T03:42:38.890550Z",
     "start_time": "2025-10-26T03:42:38.887171Z"
    }
   },
   "source": [
    "from cmath import log10\n",
    "from traceback import print_tb\n",
    "\n",
    "import numpy as np"
   ],
   "outputs": [],
   "execution_count": 1
  },
  {
   "metadata": {
    "ExecuteTime": {
     "end_time": "2025-10-26T03:48:05.692306Z",
     "start_time": "2025-10-26T03:48:05.688721Z"
    }
   },
   "cell_type": "code",
   "source": [
    "x = np.array([5,2,8])\n",
    "print(x)\n",
    "print(x.shape)"
   ],
   "id": "6b10f2bd7c8c6d3",
   "outputs": [
    {
     "name": "stdout",
     "output_type": "stream",
     "text": [
      "[5 2 8]\n",
      "(3,)\n"
     ]
    }
   ],
   "execution_count": 16
  },
  {
   "metadata": {
    "ExecuteTime": {
     "end_time": "2025-10-26T03:44:03.610268Z",
     "start_time": "2025-10-26T03:44:03.607359Z"
    }
   },
   "cell_type": "code",
   "source": [
    "print(x.T)\n",
    "print(x.T.shape)"
   ],
   "id": "955b1b251e2c77ad",
   "outputs": [
    {
     "name": "stdout",
     "output_type": "stream",
     "text": [
      "[[1]\n",
      " [2]\n",
      " [3]]\n",
      "(3, 1)\n"
     ]
    }
   ],
   "execution_count": 5
  },
  {
   "metadata": {
    "ExecuteTime": {
     "end_time": "2025-10-26T03:44:39.973848Z",
     "start_time": "2025-10-26T03:44:39.971369Z"
    }
   },
   "cell_type": "code",
   "source": [
    "y = np.array([1,6,7])\n",
    "print(x + y)"
   ],
   "id": "7afd7db7b3f37718",
   "outputs": [
    {
     "name": "stdout",
     "output_type": "stream",
     "text": [
      "[[ 2  8 10]]\n"
     ]
    }
   ],
   "execution_count": 6
  },
  {
   "metadata": {
    "ExecuteTime": {
     "end_time": "2025-10-26T03:44:46.886899Z",
     "start_time": "2025-10-26T03:44:46.884700Z"
    }
   },
   "cell_type": "code",
   "source": "print(x * 3)",
   "id": "e4c28bc5919ddf10",
   "outputs": [
    {
     "name": "stdout",
     "output_type": "stream",
     "text": [
      "[[3 6 9]]\n"
     ]
    }
   ],
   "execution_count": 7
  },
  {
   "metadata": {
    "ExecuteTime": {
     "end_time": "2025-10-26T03:44:52.991501Z",
     "start_time": "2025-10-26T03:44:52.988322Z"
    }
   },
   "cell_type": "code",
   "source": "print(x * y)",
   "id": "f1ae53ac0fa503e8",
   "outputs": [
    {
     "name": "stdout",
     "output_type": "stream",
     "text": [
      "[[ 1 12 21]]\n"
     ]
    }
   ],
   "execution_count": 8
  },
  {
   "metadata": {
    "ExecuteTime": {
     "end_time": "2025-10-26T03:45:12.169492Z",
     "start_time": "2025-10-26T03:45:12.167388Z"
    }
   },
   "cell_type": "code",
   "source": "print(x.dot(y))",
   "id": "79a7539a74108410",
   "outputs": [
    {
     "name": "stdout",
     "output_type": "stream",
     "text": [
      "[34]\n"
     ]
    }
   ],
   "execution_count": 9
  },
  {
   "metadata": {
    "ExecuteTime": {
     "end_time": "2025-10-26T03:48:09.233717Z",
     "start_time": "2025-10-26T03:48:09.230506Z"
    }
   },
   "cell_type": "code",
   "source": [
    "#计算范数\n",
    "l0_norm = np.linalg.norm(x,ord=0)\n",
    "print(l0_norm)"
   ],
   "id": "141a21ff40010cdd",
   "outputs": [
    {
     "name": "stdout",
     "output_type": "stream",
     "text": [
      "3.0\n"
     ]
    }
   ],
   "execution_count": 17
  },
  {
   "metadata": {
    "ExecuteTime": {
     "end_time": "2025-10-26T03:48:20.397560Z",
     "start_time": "2025-10-26T03:48:20.394318Z"
    }
   },
   "cell_type": "code",
   "source": [
    "l0_norm = np.linalg.norm(x,ord=1)\n",
    "print(l0_norm)"
   ],
   "id": "9360533c041fe69e",
   "outputs": [
    {
     "name": "stdout",
     "output_type": "stream",
     "text": [
      "15.0\n"
     ]
    }
   ],
   "execution_count": 18
  },
  {
   "metadata": {
    "ExecuteTime": {
     "end_time": "2025-10-26T03:48:24.464284Z",
     "start_time": "2025-10-26T03:48:24.460697Z"
    }
   },
   "cell_type": "code",
   "source": [
    "l0_norm = np.linalg.norm(x,ord=2)\n",
    "print(l0_norm)"
   ],
   "id": "59db54ef696223f1",
   "outputs": [
    {
     "name": "stdout",
     "output_type": "stream",
     "text": [
      "9.643650760992955\n"
     ]
    }
   ],
   "execution_count": 19
  },
  {
   "metadata": {},
   "cell_type": "code",
   "outputs": [],
   "execution_count": null,
   "source": "",
   "id": "cab02c3d01ab8edb"
  }
 ],
 "metadata": {
  "kernelspec": {
   "display_name": "Python 3",
   "language": "python",
   "name": "python3"
  },
  "language_info": {
   "codemirror_mode": {
    "name": "ipython",
    "version": 2
   },
   "file_extension": ".py",
   "mimetype": "text/x-python",
   "name": "python",
   "nbconvert_exporter": "python",
   "pygments_lexer": "ipython2",
   "version": "2.7.6"
  }
 },
 "nbformat": 4,
 "nbformat_minor": 5
}
