{
 "cells": [
  {
   "cell_type": "code",
   "id": "initial_id",
   "metadata": {
    "collapsed": true,
    "ExecuteTime": {
     "end_time": "2025-10-26T08:21:22.150029Z",
     "start_time": "2025-10-26T08:21:22.147227Z"
    }
   },
   "source": [
    "from traceback import print_tb\n",
    "\n",
    "import numpy as np\n",
    "\n",
    "A = np.array([[1,2,3],[4,5,6]])\n",
    "B = np.array([[1,3,7],[5,0,2]])\n",
    "print(A)\n",
    "print(A.shape)"
   ],
   "outputs": [
    {
     "name": "stdout",
     "output_type": "stream",
     "text": [
      "[[1 2 3]\n",
      " [4 5 6]]\n",
      "(2, 3)\n"
     ]
    }
   ],
   "execution_count": 2
  },
  {
   "metadata": {
    "ExecuteTime": {
     "end_time": "2025-10-26T08:21:44.063841Z",
     "start_time": "2025-10-26T08:21:44.058466Z"
    }
   },
   "cell_type": "code",
   "source": "A.T",
   "id": "f91ef9d5bef010f1",
   "outputs": [
    {
     "data": {
      "text/plain": [
       "array([[1, 4],\n",
       "       [2, 5],\n",
       "       [3, 6]])"
      ]
     },
     "execution_count": 3,
     "metadata": {},
     "output_type": "execute_result"
    }
   ],
   "execution_count": 3
  },
  {
   "metadata": {
    "ExecuteTime": {
     "end_time": "2025-10-26T08:22:26.094628Z",
     "start_time": "2025-10-26T08:22:26.092580Z"
    }
   },
   "cell_type": "code",
   "source": "print(A + B)",
   "id": "10cce62872c498e6",
   "outputs": [
    {
     "name": "stdout",
     "output_type": "stream",
     "text": [
      "[[ 2  5 10]\n",
      " [ 9  5  8]]\n"
     ]
    }
   ],
   "execution_count": 4
  },
  {
   "metadata": {
    "ExecuteTime": {
     "end_time": "2025-10-26T08:24:08.905349Z",
     "start_time": "2025-10-26T08:24:08.903124Z"
    }
   },
   "cell_type": "code",
   "source": "print(A * B)",
   "id": "896cbca7df909401",
   "outputs": [
    {
     "name": "stdout",
     "output_type": "stream",
     "text": [
      "[[ 1  6 21]\n",
      " [20  0 12]]\n"
     ]
    }
   ],
   "execution_count": 5
  },
  {
   "metadata": {
    "ExecuteTime": {
     "end_time": "2025-10-26T08:25:32.284199Z",
     "start_time": "2025-10-26T08:25:32.280209Z"
    }
   },
   "cell_type": "code",
   "source": "print(A @ B.T)",
   "id": "8abf44fe3fe57bc1",
   "outputs": [
    {
     "name": "stdout",
     "output_type": "stream",
     "text": [
      "[[28 11]\n",
      " [61 32]]\n"
     ]
    }
   ],
   "execution_count": 10
  },
  {
   "metadata": {
    "ExecuteTime": {
     "end_time": "2025-10-26T08:26:49.602535Z",
     "start_time": "2025-10-26T08:26:49.599756Z"
    }
   },
   "cell_type": "code",
   "source": [
    "C = np.array([[1,2],[3,5]])\n",
    "C_inv = np.linalg.inv(C)\n",
    "print(C_inv)"
   ],
   "id": "80b9ab1506dada4c",
   "outputs": [
    {
     "name": "stdout",
     "output_type": "stream",
     "text": [
      "[[-5.  2.]\n",
      " [ 3. -1.]]\n"
     ]
    }
   ],
   "execution_count": 11
  },
  {
   "metadata": {
    "ExecuteTime": {
     "end_time": "2025-10-26T08:37:33.323334Z",
     "start_time": "2025-10-26T08:37:33.317488Z"
    }
   },
   "cell_type": "code",
   "source": [
    "#向量化\n",
    "(A.flatten())"
   ],
   "id": "da1a004b7ee95324",
   "outputs": [
    {
     "data": {
      "text/plain": [
       "array([1, 2, 3, 4, 5, 6])"
      ]
     },
     "execution_count": 13,
     "metadata": {},
     "output_type": "execute_result"
    }
   ],
   "execution_count": 13
  },
  {
   "metadata": {
    "ExecuteTime": {
     "end_time": "2025-10-26T08:40:40.675503Z",
     "start_time": "2025-10-26T08:40:40.673312Z"
    }
   },
   "cell_type": "code",
   "source": [
    "#矩阵内积\n",
    "print(np.sum(A * B))\n",
    "print(np.dot(A.flatten(), B.flatten()))"
   ],
   "id": "61b8f31b16d33a09",
   "outputs": [
    {
     "name": "stdout",
     "output_type": "stream",
     "text": [
      "60\n",
      "60\n"
     ]
    }
   ],
   "execution_count": 16
  },
  {
   "metadata": {
    "ExecuteTime": {
     "end_time": "2025-10-26T08:41:08.820646Z",
     "start_time": "2025-10-26T08:41:08.817288Z"
    }
   },
   "cell_type": "code",
   "source": [
    "#哈达码积\n",
    "np.multiply(A, B)\n"
   ],
   "id": "457500e0932a0f46",
   "outputs": [
    {
     "data": {
      "text/plain": [
       "array([[ 1,  6, 21],\n",
       "       [20,  0, 12]])"
      ]
     },
     "execution_count": 17,
     "metadata": {},
     "output_type": "execute_result"
    }
   ],
   "execution_count": 17
  },
  {
   "metadata": {
    "ExecuteTime": {
     "end_time": "2025-10-26T08:41:24.965257Z",
     "start_time": "2025-10-26T08:41:24.960139Z"
    }
   },
   "cell_type": "code",
   "source": [
    "# 克罗内克积\n",
    "np.kron(A, B)"
   ],
   "id": "a4621f1923060da3",
   "outputs": [
    {
     "data": {
      "text/plain": [
       "array([[ 1,  3,  7,  2,  6, 14,  3,  9, 21],\n",
       "       [ 5,  0,  2, 10,  0,  4, 15,  0,  6],\n",
       "       [ 4, 12, 28,  5, 15, 35,  6, 18, 42],\n",
       "       [20,  0,  8, 25,  0, 10, 30,  0, 12]])"
      ]
     },
     "execution_count": 19,
     "metadata": {},
     "output_type": "execute_result"
    }
   ],
   "execution_count": 19
  },
  {
   "metadata": {
    "ExecuteTime": {
     "end_time": "2025-10-26T08:42:52.467626Z",
     "start_time": "2025-10-26T08:42:52.462639Z"
    }
   },
   "cell_type": "code",
   "source": [
    "tensor = np.array([[[1,2],[3,4]],[[5,6],[7,8]]])\n",
    "print(tensor)\n",
    "print(tensor.shape)"
   ],
   "id": "913924977539dcf9",
   "outputs": [
    {
     "name": "stdout",
     "output_type": "stream",
     "text": [
      "[[[1 2]\n",
      "  [3 4]]\n",
      "\n",
      " [[5 6]\n",
      "  [7 8]]]\n",
      "(2, 2, 2)\n"
     ]
    }
   ],
   "execution_count": 22
  },
  {
   "metadata": {
    "ExecuteTime": {
     "end_time": "2025-10-26T09:03:42.796199Z",
     "start_time": "2025-10-26T09:03:42.793261Z"
    }
   },
   "cell_type": "code",
   "source": [
    "# 计算梯度\n",
    "f = np.array([1,2,4,7,11,16])\n",
    "np.gradient(f)\n"
   ],
   "id": "c6a86656823f3fb9",
   "outputs": [
    {
     "data": {
      "text/plain": [
       "array([1. , 1.5, 2.5, 3.5, 4.5, 5. ])"
      ]
     },
     "execution_count": 23,
     "metadata": {},
     "output_type": "execute_result"
    }
   ],
   "execution_count": 23
  },
  {
   "metadata": {
    "ExecuteTime": {
     "end_time": "2025-10-26T09:04:46.648604Z",
     "start_time": "2025-10-26T09:04:46.646328Z"
    }
   },
   "cell_type": "code",
   "source": [
    "print(A)\n",
    "print(np.gradient(A))"
   ],
   "id": "4a207687430c1306",
   "outputs": [
    {
     "name": "stdout",
     "output_type": "stream",
     "text": [
      "[[1 2 3]\n",
      " [4 5 6]]\n",
      "(array([[3., 3., 3.],\n",
      "       [3., 3., 3.]]), array([[1., 1., 1.],\n",
      "       [1., 1., 1.]]))\n"
     ]
    }
   ],
   "execution_count": 25
  },
  {
   "metadata": {},
   "cell_type": "code",
   "outputs": [],
   "execution_count": null,
   "source": "",
   "id": "988ed4d3a0ed7205"
  }
 ],
 "metadata": {
  "kernelspec": {
   "display_name": "Python 3",
   "language": "python",
   "name": "python3"
  },
  "language_info": {
   "codemirror_mode": {
    "name": "ipython",
    "version": 2
   },
   "file_extension": ".py",
   "mimetype": "text/x-python",
   "name": "python",
   "nbconvert_exporter": "python",
   "pygments_lexer": "ipython2",
   "version": "2.7.6"
  }
 },
 "nbformat": 4,
 "nbformat_minor": 5
}
