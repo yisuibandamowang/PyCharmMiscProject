{
 "cells": [
  {
   "cell_type": "code",
   "id": "initial_id",
   "metadata": {
    "collapsed": true,
    "ExecuteTime": {
     "end_time": "2025-10-27T09:20:14.939979Z",
     "start_time": "2025-10-27T09:20:14.936822Z"
    }
   },
   "source": [
    "import numpy as np\n",
    "import matplotlib.pyplot as plt"
   ],
   "outputs": [],
   "execution_count": 6
  },
  {
   "metadata": {
    "ExecuteTime": {
     "end_time": "2025-10-27T09:23:59.407770Z",
     "start_time": "2025-10-27T09:23:59.405153Z"
    }
   },
   "cell_type": "code",
   "source": [
    "# 定义目标函数\n",
    "def f(x):\n",
    "    return (x + 3) ** 2 - 5\n",
    "# 定义梯度函数\n",
    "def gradient(x):\n",
    "    return 2 * (x + 3)\n"
   ],
   "id": "b93ca60cb7b7dde1",
   "outputs": [],
   "execution_count": 12
  },
  {
   "metadata": {
    "ExecuteTime": {
     "end_time": "2025-10-27T09:23:59.642387Z",
     "start_time": "2025-10-27T09:23:59.639806Z"
    }
   },
   "cell_type": "code",
   "source": [
    "# 用列表保存点的变化轨迹\n",
    "x_list = []\n",
    "y_list = []\n"
   ],
   "id": "b13f4b9ac5498140",
   "outputs": [],
   "execution_count": 13
  },
  {
   "metadata": {
    "ExecuteTime": {
     "end_time": "2025-10-27T09:23:59.816009Z",
     "start_time": "2025-10-27T09:23:59.813797Z"
    }
   },
   "cell_type": "code",
   "source": [
    "# 定义超参数和x初始值\n",
    "alpha = 0.1\n",
    "x = 1\n"
   ],
   "id": "76a6483d2ae047c1",
   "outputs": [],
   "execution_count": 14
  },
  {
   "metadata": {
    "ExecuteTime": {
     "end_time": "2025-10-27T09:23:59.948985Z",
     "start_time": "2025-10-27T09:23:59.945375Z"
    }
   },
   "cell_type": "code",
   "source": [
    "# 迭代 count\n",
    "for i in range(100):\n",
    "    y = f(x)\n",
    "    x_list.append(x)\n",
    "    y_list.append(y)\n",
    "    print(f\"第{i}次迭代，x:{x:.2f},y:{y:.2f}\")\n",
    "    #计算梯度\n",
    "    grad = gradient(x)\n",
    "    #更新 参数\n",
    "    x = x - alpha * grad"
   ],
   "id": "f1cea90f81451b48",
   "outputs": [
    {
     "name": "stdout",
     "output_type": "stream",
     "text": [
      "第0次迭代，x:1.00,y:11.00\n",
      "第1次迭代，x:0.20,y:5.24\n",
      "第2次迭代，x:-0.44,y:1.55\n",
      "第3次迭代，x:-0.95,y:-0.81\n",
      "第4次迭代，x:-1.36,y:-2.32\n",
      "第5次迭代，x:-1.69,y:-3.28\n",
      "第6次迭代，x:-1.95,y:-3.90\n",
      "第7次迭代，x:-2.16,y:-4.30\n",
      "第8次迭代，x:-2.33,y:-4.55\n",
      "第9次迭代，x:-2.46,y:-4.71\n",
      "第10次迭代，x:-2.57,y:-4.82\n",
      "第11次迭代，x:-2.66,y:-4.88\n",
      "第12次迭代，x:-2.73,y:-4.92\n",
      "第13次迭代，x:-2.78,y:-4.95\n",
      "第14次迭代，x:-2.82,y:-4.97\n",
      "第15次迭代，x:-2.86,y:-4.98\n",
      "第16次迭代，x:-2.89,y:-4.99\n",
      "第17次迭代，x:-2.91,y:-4.99\n",
      "第18次迭代，x:-2.93,y:-4.99\n",
      "第19次迭代，x:-2.94,y:-5.00\n",
      "第20次迭代，x:-2.95,y:-5.00\n",
      "第21次迭代，x:-2.96,y:-5.00\n",
      "第22次迭代，x:-2.97,y:-5.00\n",
      "第23次迭代，x:-2.98,y:-5.00\n",
      "第24次迭代，x:-2.98,y:-5.00\n",
      "第25次迭代，x:-2.98,y:-5.00\n",
      "第26次迭代，x:-2.99,y:-5.00\n",
      "第27次迭代，x:-2.99,y:-5.00\n",
      "第28次迭代，x:-2.99,y:-5.00\n",
      "第29次迭代，x:-2.99,y:-5.00\n",
      "第30次迭代，x:-3.00,y:-5.00\n",
      "第31次迭代，x:-3.00,y:-5.00\n",
      "第32次迭代，x:-3.00,y:-5.00\n",
      "第33次迭代，x:-3.00,y:-5.00\n",
      "第34次迭代，x:-3.00,y:-5.00\n",
      "第35次迭代，x:-3.00,y:-5.00\n",
      "第36次迭代，x:-3.00,y:-5.00\n",
      "第37次迭代，x:-3.00,y:-5.00\n",
      "第38次迭代，x:-3.00,y:-5.00\n",
      "第39次迭代，x:-3.00,y:-5.00\n",
      "第40次迭代，x:-3.00,y:-5.00\n",
      "第41次迭代，x:-3.00,y:-5.00\n",
      "第42次迭代，x:-3.00,y:-5.00\n",
      "第43次迭代，x:-3.00,y:-5.00\n",
      "第44次迭代，x:-3.00,y:-5.00\n",
      "第45次迭代，x:-3.00,y:-5.00\n",
      "第46次迭代，x:-3.00,y:-5.00\n",
      "第47次迭代，x:-3.00,y:-5.00\n",
      "第48次迭代，x:-3.00,y:-5.00\n",
      "第49次迭代，x:-3.00,y:-5.00\n",
      "第50次迭代，x:-3.00,y:-5.00\n",
      "第51次迭代，x:-3.00,y:-5.00\n",
      "第52次迭代，x:-3.00,y:-5.00\n",
      "第53次迭代，x:-3.00,y:-5.00\n",
      "第54次迭代，x:-3.00,y:-5.00\n",
      "第55次迭代，x:-3.00,y:-5.00\n",
      "第56次迭代，x:-3.00,y:-5.00\n",
      "第57次迭代，x:-3.00,y:-5.00\n",
      "第58次迭代，x:-3.00,y:-5.00\n",
      "第59次迭代，x:-3.00,y:-5.00\n",
      "第60次迭代，x:-3.00,y:-5.00\n",
      "第61次迭代，x:-3.00,y:-5.00\n",
      "第62次迭代，x:-3.00,y:-5.00\n",
      "第63次迭代，x:-3.00,y:-5.00\n",
      "第64次迭代，x:-3.00,y:-5.00\n",
      "第65次迭代，x:-3.00,y:-5.00\n",
      "第66次迭代，x:-3.00,y:-5.00\n",
      "第67次迭代，x:-3.00,y:-5.00\n",
      "第68次迭代，x:-3.00,y:-5.00\n",
      "第69次迭代，x:-3.00,y:-5.00\n",
      "第70次迭代，x:-3.00,y:-5.00\n",
      "第71次迭代，x:-3.00,y:-5.00\n",
      "第72次迭代，x:-3.00,y:-5.00\n",
      "第73次迭代，x:-3.00,y:-5.00\n",
      "第74次迭代，x:-3.00,y:-5.00\n",
      "第75次迭代，x:-3.00,y:-5.00\n",
      "第76次迭代，x:-3.00,y:-5.00\n",
      "第77次迭代，x:-3.00,y:-5.00\n",
      "第78次迭代，x:-3.00,y:-5.00\n",
      "第79次迭代，x:-3.00,y:-5.00\n",
      "第80次迭代，x:-3.00,y:-5.00\n",
      "第81次迭代，x:-3.00,y:-5.00\n",
      "第82次迭代，x:-3.00,y:-5.00\n",
      "第83次迭代，x:-3.00,y:-5.00\n",
      "第84次迭代，x:-3.00,y:-5.00\n",
      "第85次迭代，x:-3.00,y:-5.00\n",
      "第86次迭代，x:-3.00,y:-5.00\n",
      "第87次迭代，x:-3.00,y:-5.00\n",
      "第88次迭代，x:-3.00,y:-5.00\n",
      "第89次迭代，x:-3.00,y:-5.00\n",
      "第90次迭代，x:-3.00,y:-5.00\n",
      "第91次迭代，x:-3.00,y:-5.00\n",
      "第92次迭代，x:-3.00,y:-5.00\n",
      "第93次迭代，x:-3.00,y:-5.00\n",
      "第94次迭代，x:-3.00,y:-5.00\n",
      "第95次迭代，x:-3.00,y:-5.00\n",
      "第96次迭代，x:-3.00,y:-5.00\n",
      "第97次迭代，x:-3.00,y:-5.00\n",
      "第98次迭代，x:-3.00,y:-5.00\n",
      "第99次迭代，x:-3.00,y:-5.00\n"
     ]
    }
   ],
   "execution_count": 15
  },
  {
   "metadata": {
    "ExecuteTime": {
     "end_time": "2025-10-27T09:24:11.842997Z",
     "start_time": "2025-10-27T09:24:11.764598Z"
    }
   },
   "cell_type": "code",
   "source": [
    "# 画图\n",
    "x = np.arange(-5,1,0.01)\n",
    "plt.plot(x,f(x))\n",
    "plt.plot(x_list,y_list,'r')\n",
    "plt.scatter(x_list,y_list,c='r')"
   ],
   "id": "5e31426df5a06a34",
   "outputs": [
    {
     "data": {
      "text/plain": [
       "<matplotlib.collections.PathCollection at 0x107423af0>"
      ]
     },
     "execution_count": 17,
     "metadata": {},
     "output_type": "execute_result"
    },
    {
     "data": {
      "text/plain": [
       "<Figure size 640x480 with 1 Axes>"
      ],
      "image/png": "[encoded data removed]"
     },
     "metadata": {},
     "output_type": "display_data",
     "jetTransient": {
      "display_id": null
     }
    }
   ],
   "execution_count": 17
  },
  {
   "metadata": {},
   "cell_type": "code",
   "outputs": [],
   "execution_count": null,
   "source": "",
   "id": "e60172fcbb74eb9e"
  }
 ],
 "metadata": {
  "kernelspec": {
   "display_name": "Python 3",
   "language": "python",
   "name": "python3"
  },
  "language_info": {
   "codemirror_mode": {
    "name": "ipython",
    "version": 2
   },
   "file_extension": ".py",
   "mimetype": "text/x-python",
   "name": "python",
   "nbconvert_exporter": "python",
   "pygments_lexer": "ipython2",
   "version": "2.7.6"
  }
 },
 "nbformat": 4,
 "nbformat_minor": 5
}
