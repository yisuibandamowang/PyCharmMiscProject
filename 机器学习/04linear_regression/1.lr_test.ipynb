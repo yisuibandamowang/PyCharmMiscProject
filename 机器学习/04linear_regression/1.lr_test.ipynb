{
 "cells": [
  {
   "cell_type": "code",
   "id": "initial_id",
   "metadata": {
    "collapsed": true,
    "ExecuteTime": {
     "end_time": "2025-10-28T06:48:21.479462Z",
     "start_time": "2025-10-28T06:48:20.863146Z"
    }
   },
   "source": "from sklearn.linear_model import LinearRegression\n",
   "outputs": [],
   "execution_count": 2
  },
  {
   "metadata": {
    "ExecuteTime": {
     "end_time": "2025-10-28T06:48:21.489504Z",
     "start_time": "2025-10-28T06:48:21.486914Z"
    }
   },
   "cell_type": "code",
   "source": [
    "# 1. 定义数据\n",
    "# 自变量，每周学习时长\n",
    "X = [[5], [8], [10], [12], [15], [3], [7], [9], [14], [6]]\n",
    "# 因变量，数学考试成绩\n",
    "y = [55, 65, 70, 75, 85, 50, 60, 72, 80, 58]"
   ],
   "id": "f0ef562783818039",
   "outputs": [],
   "execution_count": 3
  },
  {
   "metadata": {
    "ExecuteTime": {
     "end_time": "2025-10-28T06:48:21.495831Z",
     "start_time": "2025-10-28T06:48:21.494326Z"
    }
   },
   "cell_type": "code",
   "source": [
    "# 2. 创建模型\n",
    "model = LinearRegression()"
   ],
   "id": "219eb669e8d742cc",
   "outputs": [],
   "execution_count": 4
  },
  {
   "metadata": {
    "ExecuteTime": {
     "end_time": "2025-10-28T06:48:21.524727Z",
     "start_time": "2025-10-28T06:48:21.521790Z"
    }
   },
   "cell_type": "code",
   "source": [
    "# 3. 训练模型\n",
    "model.fit(X, y)\n",
    "# 打印模型参数\n",
    "print(model.coef_)\n",
    "print(model.intercept_)"
   ],
   "id": "981b7b57d17cbf4b",
   "outputs": [
    {
     "name": "stdout",
     "output_type": "stream",
     "text": [
      "[2.87070855]\n",
      "41.45069393718042\n"
     ]
    }
   ],
   "execution_count": 5
  },
  {
   "metadata": {
    "ExecuteTime": {
     "end_time": "2025-10-28T06:48:21.609029Z",
     "start_time": "2025-10-28T06:48:21.606432Z"
    }
   },
   "cell_type": "code",
   "source": [
    "# 4. 预测结果\n",
    "x_new = [[11]]\n",
    "y_pred = model.predict(x_new)\n",
    "print(y_pred)"
   ],
   "id": "52b67a5d4d7dc08f",
   "outputs": [
    {
     "name": "stdout",
     "output_type": "stream",
     "text": [
      "[73.02848795]\n"
     ]
    }
   ],
   "execution_count": 6
  },
  {
   "metadata": {
    "ExecuteTime": {
     "end_time": "2025-10-28T06:48:21.921813Z",
     "start_time": "2025-10-28T06:48:21.688052Z"
    }
   },
   "cell_type": "code",
   "source": [
    "# 5. 画图\n",
    "import matplotlib.pyplot as plt\n",
    "import numpy as np\n"
   ],
   "id": "bfd7cd04dab8932",
   "outputs": [],
   "execution_count": 7
  },
  {
   "metadata": {
    "ExecuteTime": {
     "end_time": "2025-10-28T06:48:21.929377Z",
     "start_time": "2025-10-28T06:48:21.925268Z"
    }
   },
   "cell_type": "code",
   "source": [
    "x_line = np.arange(0,15,0.1).reshape(-1,1)\n",
    "y_line = model.predict(x_line)"
   ],
   "id": "b1ff91baca1a1b16",
   "outputs": [],
   "execution_count": 8
  },
  {
   "metadata": {
    "ExecuteTime": {
     "end_time": "2025-10-28T06:48:22.000492Z",
     "start_time": "2025-10-28T06:48:21.934295Z"
    }
   },
   "cell_type": "code",
   "source": [
    "plt.scatter(X,y)\n",
    "plt.plot(x_line,y_line,color='red')\n",
    "plt.scatter(x_new,y_pred,color='blue')"
   ],
   "id": "69230b4649a7a9a4",
   "outputs": [
    {
     "data": {
      "text/plain": [
       "<matplotlib.collections.PathCollection at 0x15da6d2e0>"
      ]
     },
     "execution_count": 9,
     "metadata": {},
     "output_type": "execute_result"
    },
    {
     "data": {
      "text/plain": [
       "<Figure size 640x480 with 1 Axes>"
      ],
      "image/png": "[encoded data removed]"
     },
     "metadata": {},
     "output_type": "display_data",
     "jetTransient": {
      "display_id": null
     }
    }
   ],
   "execution_count": 9
  },
  {
   "metadata": {
    "ExecuteTime": {
     "end_time": "2025-10-28T06:48:22.031297Z",
     "start_time": "2025-10-28T06:48:22.027967Z"
    }
   },
   "cell_type": "code",
   "source": [
    "# 用方差和协方差求解验证数学公式\n",
    "x = np.array(X).reshape(-1)\n",
    "cov = np.cov(x,y)\n",
    "print( cov)"
   ],
   "id": "5a81046829e22c89",
   "outputs": [
    {
     "name": "stdout",
     "output_type": "stream",
     "text": [
      "[[ 15.21111111  43.66666667]\n",
      " [ 43.66666667 128.66666667]]\n"
     ]
    }
   ],
   "execution_count": 10
  },
  {
   "metadata": {
    "ExecuteTime": {
     "end_time": "2025-10-28T06:49:35.608619Z",
     "start_time": "2025-10-28T06:49:35.606489Z"
    }
   },
   "cell_type": "code",
   "source": [
    "beta1 = cov[0][1] / cov[0][0]\n",
    "print(beta1)"
   ],
   "id": "2fa8c4d898fd0cf9",
   "outputs": [
    {
     "name": "stdout",
     "output_type": "stream",
     "text": [
      "2.8707085463842223\n"
     ]
    }
   ],
   "execution_count": 13
  },
  {
   "metadata": {},
   "cell_type": "code",
   "outputs": [],
   "execution_count": null,
   "source": "",
   "id": "645d6f988f2efa25"
  }
 ],
 "metadata": {
  "kernelspec": {
   "display_name": "Python 3",
   "language": "python",
   "name": "python3"
  },
  "language_info": {
   "codemirror_mode": {
    "name": "ipython",
    "version": 2
   },
   "file_extension": ".py",
   "mimetype": "text/x-python",
   "name": "python",
   "nbconvert_exporter": "python",
   "pygments_lexer": "ipython2",
   "version": "2.7.6"
  }
 },
 "nbformat": 4,
 "nbformat_minor": 5
}
